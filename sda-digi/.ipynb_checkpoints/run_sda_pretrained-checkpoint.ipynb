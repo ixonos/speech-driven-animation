{
 "cells": [
  {
   "cell_type": "code",
   "execution_count": 1,
   "metadata": {},
   "outputs": [],
   "source": [
    "import sda\n",
    "import os\n",
    "import skvideo.io as sio\n",
    "import numpy as np\n",
    "import scipy.io.wavfile as wav\n",
    "import ffmpeg"
   ]
  },
  {
   "cell_type": "code",
   "execution_count": 2,
   "metadata": {},
   "outputs": [],
   "source": [
    "va = sda.VideoAnimator(gpu=0, model_path=\"grid\")"
   ]
  },
  {
   "cell_type": "code",
   "execution_count": 6,
   "metadata": {},
   "outputs": [
    {
     "name": "stdout",
     "output_type": "stream",
     "text": [
      "torch.Size([71, 3, 128, 96])\n",
      "rnn shape : torch.Size([1, 71, 256])\n",
      "rnn input shape : torch.Size([1, 71, 10000, 1])\n"
     ]
    }
   ],
   "source": [
    "vid, aud, aud2 = va(\"example/male_face2.jpg\", \"example/hello_world.wav\")"
   ]
  },
  {
   "cell_type": "code",
   "execution_count": 45,
   "metadata": {},
   "outputs": [],
   "source": [
    "def save_video(video, audio, path, overwrite=True, experimental_ffmpeg=False, scale=None):\n",
    "        if not os.path.isabs(path):\n",
    "            path = os.getcwd() + \"/\" + path;\n",
    "\n",
    "        dirpath = '/home/jarrod/dev/speech-driven-animation'    \n",
    "        \n",
    "        # Save the video file\n",
    "        writer = sio.FFmpegWriter(dirpath + \"/tmp.avi\",\n",
    "                                  inputdict={'-r': str(va.video_rate) + \"/1\", },\n",
    "                                  outputdict={'-r': str(va.video_rate) + \"/1\", }\n",
    "                                  )\n",
    "        for i in range(video.shape[0]):\n",
    "            frame = np.rollaxis(video[i, :, :, :], 0, 3)\n",
    "\n",
    "            if scale is not None:\n",
    "                frame = tf.rescale(frame, scale, anti_aliasing=True, multichannel=True, mode='reflect')\n",
    "\n",
    "            writer.writeFrame(frame)\n",
    "        writer.close()\n",
    "\n",
    "        # Save the audio file\n",
    "        wav.write(dirpath + \"/tmp.wav\", va.audio_rate, audio)\n",
    "\n",
    "        in1 = ffmpeg.input(dirpath + \"/tmp.avi\")\n",
    "        in2 = ffmpeg.input(dirpath + \"/tmp.wav\")\n",
    "        if experimental_ffmpeg:\n",
    "            out = ffmpeg.output(in1['v'], in2['a'], path, strict='-2', loglevel=\"panic\")\n",
    "        else:\n",
    "            out = ffmpeg.output(in1['v'], in2['a'], path, loglevel=\"panic\")\n",
    "\n",
    "        if overwrite:\n",
    "            out = out.overwrite_output()\n",
    "        out.run()"
   ]
  },
  {
   "cell_type": "code",
   "execution_count": 63,
   "metadata": {},
   "outputs": [
    {
     "ename": "Error",
     "evalue": "ffmpeg error (see stderr output for detail)",
     "output_type": "error",
     "traceback": [
      "\u001b[0;31m---------------------------------------------------------------------------\u001b[0m",
      "\u001b[0;31mError\u001b[0m                                     Traceback (most recent call last)",
      "\u001b[0;32m<ipython-input-63-86d0598d0e36>\u001b[0m in \u001b[0;36m<module>\u001b[0;34m\u001b[0m\n\u001b[1;32m      2\u001b[0m \u001b[0;31m# either fix the ffmpeg error, or just write the files out and join them manually later...\u001b[0m\u001b[0;34m\u001b[0m\u001b[0;34m\u001b[0m\u001b[0;34m\u001b[0m\u001b[0m\n\u001b[1;32m      3\u001b[0m \u001b[0;34m\u001b[0m\u001b[0m\n\u001b[0;32m----> 4\u001b[0;31m \u001b[0msave_video\u001b[0m\u001b[0;34m(\u001b[0m\u001b[0mvid\u001b[0m\u001b[0;34m,\u001b[0m \u001b[0maud\u001b[0m\u001b[0;34m,\u001b[0m \u001b[0;34m\"generated.mp4\"\u001b[0m\u001b[0;34m)\u001b[0m\u001b[0;34m\u001b[0m\u001b[0;34m\u001b[0m\u001b[0m\n\u001b[0m",
      "\u001b[0;32m<ipython-input-45-6c845b6a5b18>\u001b[0m in \u001b[0;36msave_video\u001b[0;34m(video, audio, path, overwrite, experimental_ffmpeg, scale)\u001b[0m\n\u001b[1;32m     31\u001b[0m         \u001b[0;32mif\u001b[0m \u001b[0moverwrite\u001b[0m\u001b[0;34m:\u001b[0m\u001b[0;34m\u001b[0m\u001b[0;34m\u001b[0m\u001b[0m\n\u001b[1;32m     32\u001b[0m             \u001b[0mout\u001b[0m \u001b[0;34m=\u001b[0m \u001b[0mout\u001b[0m\u001b[0;34m.\u001b[0m\u001b[0moverwrite_output\u001b[0m\u001b[0;34m(\u001b[0m\u001b[0;34m)\u001b[0m\u001b[0;34m\u001b[0m\u001b[0;34m\u001b[0m\u001b[0m\n\u001b[0;32m---> 33\u001b[0;31m         \u001b[0mout\u001b[0m\u001b[0;34m.\u001b[0m\u001b[0mrun\u001b[0m\u001b[0;34m(\u001b[0m\u001b[0;34m)\u001b[0m\u001b[0;34m\u001b[0m\u001b[0;34m\u001b[0m\u001b[0m\n\u001b[0m",
      "\u001b[0;32m~/.pyenv/versions/3.7.1/lib/python3.7/site-packages/ffmpeg_python-0.2.0-py3.7.egg/ffmpeg/_run.py\u001b[0m in \u001b[0;36mrun\u001b[0;34m(stream_spec, cmd, capture_stdout, capture_stderr, input, quiet, overwrite_output)\u001b[0m\n\u001b[1;32m    323\u001b[0m     \u001b[0mretcode\u001b[0m \u001b[0;34m=\u001b[0m \u001b[0mprocess\u001b[0m\u001b[0;34m.\u001b[0m\u001b[0mpoll\u001b[0m\u001b[0;34m(\u001b[0m\u001b[0;34m)\u001b[0m\u001b[0;34m\u001b[0m\u001b[0;34m\u001b[0m\u001b[0m\n\u001b[1;32m    324\u001b[0m     \u001b[0;32mif\u001b[0m \u001b[0mretcode\u001b[0m\u001b[0;34m:\u001b[0m\u001b[0;34m\u001b[0m\u001b[0;34m\u001b[0m\u001b[0m\n\u001b[0;32m--> 325\u001b[0;31m         \u001b[0;32mraise\u001b[0m \u001b[0mError\u001b[0m\u001b[0;34m(\u001b[0m\u001b[0;34m'ffmpeg'\u001b[0m\u001b[0;34m,\u001b[0m \u001b[0mout\u001b[0m\u001b[0;34m,\u001b[0m \u001b[0merr\u001b[0m\u001b[0;34m)\u001b[0m\u001b[0;34m\u001b[0m\u001b[0;34m\u001b[0m\u001b[0m\n\u001b[0m\u001b[1;32m    326\u001b[0m     \u001b[0;32mreturn\u001b[0m \u001b[0mout\u001b[0m\u001b[0;34m,\u001b[0m \u001b[0merr\u001b[0m\u001b[0;34m\u001b[0m\u001b[0;34m\u001b[0m\u001b[0m\n\u001b[1;32m    327\u001b[0m \u001b[0;34m\u001b[0m\u001b[0m\n",
      "\u001b[0;31mError\u001b[0m: ffmpeg error (see stderr output for detail)"
     ]
    }
   ],
   "source": [
    "# this fails, but it will write the animated video and audio file to a temp directory\n",
    "# either fix the ffmpeg error, or just write the files out and join them manually later...\n",
    "\n",
    "save_video(vid, aud, \"generated.mp4\")"
   ]
  },
  {
   "cell_type": "code",
   "execution_count": null,
   "metadata": {},
   "outputs": [],
   "source": []
  }
 ],
 "metadata": {
  "kernelspec": {
   "display_name": "Python 3",
   "language": "python",
   "name": "python3"
  },
  "language_info": {
   "codemirror_mode": {
    "name": "ipython",
    "version": 3
   },
   "file_extension": ".py",
   "mimetype": "text/x-python",
   "name": "python",
   "nbconvert_exporter": "python",
   "pygments_lexer": "ipython3",
   "version": "3.7.1"
  }
 },
 "nbformat": 4,
 "nbformat_minor": 2
}
